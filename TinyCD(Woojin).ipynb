{
  "nbformat": 4,
  "nbformat_minor": 0,
  "metadata": {
    "colab": {
      "provenance": [],
      "collapsed_sections": [],
      "authorship_tag": "ABX9TyOQYK0xoBWXaTws+CvNr/0j",
      "include_colab_link": true
    },
    "kernelspec": {
      "name": "python3",
      "display_name": "Python 3"
    },
    "language_info": {
      "name": "python"
    },
    "gpuClass": "standard"
  },
  "cells": [
    {
      "cell_type": "markdown",
      "metadata": {
        "id": "view-in-github",
        "colab_type": "text"
      },
      "source": [
        "<a href=\"https://colab.research.google.com/github/Woojin0118/TinyCD/blob/main/TinyCD(Woojin).ipynb\" target=\"_parent\"><img src=\"https://colab.research.google.com/assets/colab-badge.svg\" alt=\"Open In Colab\"/></a>"
      ]
    },
    {
      "cell_type": "markdown",
      "source": [
        "사진의 크기를 256 X 256 으로 바꾸어야 한다."
      ],
      "metadata": {
        "id": "PA6in46M-ROt"
      }
    },
    {
      "cell_type": "code",
      "execution_count": 1,
      "metadata": {
        "colab": {
          "base_uri": "https://localhost:8080/"
        },
        "id": "NyneXHKMajjn",
        "outputId": "3e6a08c5-fff9-48e3-ff7a-0ed2188e812f"
      },
      "outputs": [
        {
          "output_type": "stream",
          "name": "stdout",
          "text": [
            "Cloning into 'TinyCD'...\n",
            "remote: Enumerating objects: 79, done.\u001b[K\n",
            "remote: Counting objects: 100% (79/79), done.\u001b[K\n",
            "remote: Compressing objects: 100% (69/69), done.\u001b[K\n",
            "remote: Total 79 (delta 21), reused 0 (delta 0), pack-reused 0\u001b[K\n",
            "Unpacking objects: 100% (79/79), done.\n"
          ]
        }
      ],
      "source": [
        "!git clone https://github.com/Woojin0118/TinyCD.git"
      ]
    },
    {
      "cell_type": "code",
      "source": [
        "cd TinyCD"
      ],
      "metadata": {
        "colab": {
          "base_uri": "https://localhost:8080/"
        },
        "id": "Drg8__4ZbtdV",
        "outputId": "06fbe7a2-789f-44ac-d142-e358b2f9f331"
      },
      "execution_count": null,
      "outputs": [
        {
          "output_type": "stream",
          "name": "stdout",
          "text": [
            "/content/TinyCD\n"
          ]
        }
      ]
    },
    {
      "cell_type": "code",
      "source": [
        "!mkdir result\n",
        "!mkdir result_R\n",
        "!mkdir train_model"
      ],
      "metadata": {
        "id": "2PKCFiWRbv6s"
      },
      "execution_count": null,
      "outputs": []
    },
    {
      "cell_type": "code",
      "source": [
        "!wget https://www.dropbox.com/s/h9jl2ygznsaeg5d/LEVIR-CD-256.zip"
      ],
      "metadata": {
        "id": "0fEnmonlD_Ue"
      },
      "execution_count": null,
      "outputs": []
    },
    {
      "cell_type": "code",
      "source": [
        "!unzip LEVIR-CD-256.zip"
      ],
      "metadata": {
        "id": "Uptz6g2AENRb"
      },
      "execution_count": null,
      "outputs": []
    },
    {
      "cell_type": "code",
      "source": [
        "# 파일명 추출하여 txt 파일로 만들기\n",
        "\n",
        "import os\n",
        "\n",
        "os.chdir('./A')\n",
        "file_names = os.listdir()\n",
        "\n",
        "find1 = [i for i in file_names if \"train\" in i]\n",
        "find2 = [i for i in file_names if \"test\" in i]\n",
        "find3 = [i for i in file_names if \"val\" in i]\n",
        "\n",
        "\n",
        "f = open(\"/content/LEVIR-CD-256/list1/train.txt\",'w')\n",
        "f.write('\\n'.join(find1))\n",
        "f.close()\n",
        "\n",
        "f = open(\"/content/LEVIR-CD-256/list1/test.txt\",'w')\n",
        "f.write('\\n'.join(find2))\n",
        "f.close()\n",
        "\n",
        "f = open(\"/content/LEVIR-CD-256/list1/val.txt\",'w')\n",
        "f.write('\\n'.join(find3))\n",
        "f.close()"
      ],
      "metadata": {
        "id": "ee5IVQdZcINN"
      },
      "execution_count": null,
      "outputs": []
    },
    {
      "cell_type": "code",
      "source": [
        "# 이미지 사이즈 변경\n",
        "\n",
        "from PIL import Image\n",
        "import cv2\n",
        "import glob\n",
        "\n",
        "tests1_path = glob.glob('./LEVIR-CD-256/A/*.png')\n",
        "tests2_path = glob.glob('./LEVIR-CD-256/B/*.png')\n",
        "label_path = glob.glob('./LEVIR-CD-256/label/*.png')\n",
        "\n",
        "for tests1_path, tests2_path, label_path in zip(tests1_path, tests2_path, label_path):\n",
        "  test1_im = cv2.imread(tests1_path)\n",
        "  test1_im = cv2.resize(test1_im,dsize=(256,256))\n",
        "  cv2.imwrite(tests1_path, test1_im)\n",
        "  test2_im = cv2.imread(tests2_path)\n",
        "  test2_im = cv2.resize(test2_im,dsize=(256,256))\n",
        "  cv2.imwrite(tests2_path, test2_im)\n",
        "  label_im = cv2.imread(label_path)\n",
        "  label_im = cv2.resize(label_im,dsize=(256,256))\n",
        "  cv2.imwrite(label_path, label_im)"
      ],
      "metadata": {
        "id": "5JeflwMBExa4"
      },
      "execution_count": null,
      "outputs": []
    },
    {
      "cell_type": "code",
      "source": [
        "# Evaluate pretrained models\n",
        "!python3 test_ondata.py --datapath \"LEVIR-CD-256\" --modelpath \"pretrained_models/levir_best.pth\""
      ],
      "metadata": {
        "id": "ynAc_xwvLmYC"
      },
      "execution_count": null,
      "outputs": []
    },
    {
      "cell_type": "code",
      "source": [
        "# Train your model\n",
        "!python3 training.py --datapath \"LEVIR-CD-256\" --log-path \"train_model\""
      ],
      "metadata": {
        "id": "Jby1FzqaYzlZ"
      },
      "execution_count": null,
      "outputs": []
    },
    {
      "cell_type": "code",
      "source": [
        "# 결과 이미지 사이즈 변경\n",
        "\n",
        "import os\n",
        "import numpy as np\n",
        "import cv2\n",
        "from PIL import Image\n",
        "\n",
        "original_path = '/content/TinyCD/result/'\n",
        "resized_path = '/content/TinyCD/result_R/'\n",
        "\n",
        "file_list = os.listdir(original_path)\n",
        "img_list = []\n",
        "\n",
        "for item in file_list :\n",
        "    if item.find('test') is not -1 :\n",
        "        img_list.append(item)\n",
        "\n",
        "total_image = len(img_list)\n",
        "index = 0\n",
        "\n",
        "for name in img_list :\n",
        "\n",
        "    img = Image.open('%s%s'%(original_path, name))\n",
        "    img_array = np.array(img)\n",
        "    img_resize = cv2.resize(img_array, (720,720), interpolation = cv2.INTER_AREA)\n",
        "    img = Image.fromarray(img_resize)\n",
        "    img.save('%s%s'%(resized_path, name))\n",
        "\n",
        "    print(name + '   ' + str(index) + '/' + str(total_image))\n",
        "    index = index + 1"
      ],
      "metadata": {
        "id": "BiC8cVpiE7yQ"
      },
      "execution_count": null,
      "outputs": []
    },
    {
      "cell_type": "markdown",
      "source": [
        "아래부터는 전부 이미지 사이즈 변경하는 코드"
      ],
      "metadata": {
        "id": "vOs6bADeAvBo"
      }
    },
    {
      "cell_type": "code",
      "source": [
        "torchvision_transform = transforms.Compose([\n",
        "    transforms.Resize(256,256),\n",
        "    transforms.ToTensor()\n",
        "])"
      ],
      "metadata": {
        "id": "cpNKo95OAuPb"
      },
      "execution_count": null,
      "outputs": []
    },
    {
      "cell_type": "code",
      "source": [
        "# 이미지 사이즈 변경하기\n",
        "\n",
        "import os\n",
        "import glob\n",
        "from PIL import Image\n",
        "\n",
        "\n",
        "files = glob.glob('./LEVIR-CD-256/A/*.png')\n",
        "\n",
        "for f in files:\n",
        "    img = Image.open(f)\n",
        "    img_resize = img.resize((720, 720))\n",
        "    title, ext = os.path.splitext(f)\n",
        "    img_resize.save(title + ext)\n",
        "\n",
        "\n",
        "files = glob.glob('./LEVIR-CD-256/B/*.png')\n",
        "\n",
        "for f in files:\n",
        "    img = Image.open(f)\n",
        "    img_resize = img.resize((720, 720))\n",
        "    title, ext = os.path.splitext(f)\n",
        "    img_resize.save(title + ext)\n",
        "\n",
        "\n",
        "files = glob.glob('./LEVIR-CD-256/label/*.png')\n",
        "\n",
        "for f in files:\n",
        "    img = Image.open(f)\n",
        "    img_resize = img.resize((720, 720))\n",
        "    title, ext = os.path.splitext(f)\n",
        "    img_resize.save(title + ext)"
      ],
      "metadata": {
        "id": "dPsu_w9Le6zu"
      },
      "execution_count": null,
      "outputs": []
    },
    {
      "cell_type": "code",
      "source": [
        "from PIL import Image\n",
        "import cv2\n",
        "import glob\n",
        "\n",
        "tests1_path = glob.glob('./LEVIR-CD-256/A/*.png')\n",
        "tests2_path = glob.glob('./LEVIR-CD-256/B/*.png')\n",
        "label_path = glob.glob('./LEVIR-CD-256/label/*.png')\n",
        "\n",
        "for tests1_path, tests2_path, label_path in zip(tests1_path, tests2_path, label_path):\n",
        "  test1_im = cv2.imread(tests1_path)\n",
        "  test1_im = cv2.resize(test1_im,dsize=(256,256))\n",
        "  cv2.imwrite(tests1_path, test1_im)\n",
        "  test2_im = cv2.imread(tests2_path)\n",
        "  test2_im = cv2.resize(test2_im,dsize=(256,256))\n",
        "  cv2.imwrite(tests2_path, test2_im)\n",
        "  label_im = cv2.imread(label_path)\n",
        "  label_im = cv2.resize(label_im,dsize=(256,256))\n",
        "  cv2.imwrite(label_path, label_im)"
      ],
      "metadata": {
        "id": "ffqpKaFC0R-x"
      },
      "execution_count": null,
      "outputs": []
    },
    {
      "cell_type": "code",
      "source": [
        "import os\n",
        "import numpy as np\n",
        "import cv2\n",
        "from PIL import Image\n",
        "\n",
        "original_path = '/content/TinyCD/LEVIR-CD-256/A/'\n",
        "resized_path = '/content/TinyCD/LEVIR-CD-720/A/'\n",
        "\n",
        "file_list = os.listdir(original_path)\n",
        "img_list = []\n",
        "\n",
        "for item in file_list :\n",
        "    if item.find('test') is not -1 :\n",
        "        img_list.append(item)\n",
        "\n",
        "total_image = len(img_list)\n",
        "index = 0\n",
        "\n",
        "for name in img_list :\n",
        "\n",
        "    img = Image.open('%s%s'%(original_path, name))\n",
        "    img_array = np.array(img)\n",
        "    img_resize = cv2.resize(img_array, (720,720), interpolation = cv2.INTER_AREA)\n",
        "    img = Image.fromarray(img_resize)\n",
        "    img.save('%s%s'%(resized_path, name))\n",
        "\n",
        "    print(name + '   ' + str(index) + '/' + str(total_image))\n",
        "    index = index + 1"
      ],
      "metadata": {
        "id": "1zl-z6_CuUBx"
      },
      "execution_count": null,
      "outputs": []
    },
    {
      "cell_type": "code",
      "source": [
        "import os\n",
        "import numpy as np\n",
        "import cv2\n",
        "from PIL import Image\n",
        "\n",
        "original_path = '/content/TinyCD/LEVIR-CD-256/B/'\n",
        "resized_path = '/content/TinyCD/LEVIR-CD-720/B/'\n",
        "\n",
        "file_list = os.listdir(original_path)\n",
        "img_list = []\n",
        "\n",
        "for item in file_list :\n",
        "    if item.find('test') is not -1 :\n",
        "        img_list.append(item)\n",
        "\n",
        "total_image = len(img_list)\n",
        "index = 0\n",
        "\n",
        "for name in img_list :\n",
        "\n",
        "    img = Image.open('%s%s'%(original_path, name))\n",
        "    img_array = np.array(img)\n",
        "    img_resize = cv2.resize(img_array, (256,256), interpolation = cv2.INTER_AREA)\n",
        "    img = Image.fromarray(img_resize)\n",
        "    img.save('%s%s'%(resized_path, name))\n",
        "\n",
        "    print(name + '   ' + str(index) + '/' + str(total_image))\n",
        "    index = index + 1"
      ],
      "metadata": {
        "id": "nszz0DFovmFd"
      },
      "execution_count": null,
      "outputs": []
    },
    {
      "cell_type": "code",
      "source": [
        "import os\n",
        "import numpy as np\n",
        "import cv2\n",
        "from PIL import Image\n",
        "\n",
        "original_path = '/content/TinyCD/LEVIR-CD-256/label/'\n",
        "resized_path = '/content/TinyCD/LEVIR-CD-720/label/'\n",
        "\n",
        "file_list = os.listdir(original_path)\n",
        "img_list = []\n",
        "\n",
        "for item in file_list :\n",
        "    if item.find('test') is not -1 :\n",
        "        img_list.append(item)\n",
        "\n",
        "total_image = len(img_list)\n",
        "index = 0\n",
        "\n",
        "for name in img_list :\n",
        "\n",
        "    img = Image.open('%s%s'%(original_path, name))\n",
        "    img_array = np.array(img)\n",
        "    img_resize = cv2.resize(img_array, (720,720), interpolation = cv2.INTER_AREA)\n",
        "    img = Image.fromarray(img_resize)\n",
        "    img.save('%s%s'%(resized_path, name))\n",
        "\n",
        "    print(name + '   ' + str(index) + '/' + str(total_image))\n",
        "    index = index + 1"
      ],
      "metadata": {
        "id": "AKmi6oVtvmTb"
      },
      "execution_count": null,
      "outputs": []
    }
  ]
}